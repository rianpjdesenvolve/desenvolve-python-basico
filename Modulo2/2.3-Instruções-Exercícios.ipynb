{
 "cells": [
  {
   "cell_type": "markdown",
   "metadata": {
    "id": "1pCTdOHonv5f"
   },
   "source": [
    "# Módulo 2\n",
    "\n",
    "## 2.3 Instruções e Expressões\n",
    "\n",
    "### Q1\n",
    "\n",
    "Faça um programa que armazene o valor de 20 reais de salário por hora de um trabalhador, e o número de 40 horas trabalhadas na semana. Com essas informações, calcule e imprima:\n",
    "- Salário semanal bruto\n",
    "- Valor descontado por semana INSS (10% do bruto)\n",
    "- Valor descontado por semana pelo sindicato (5% do bruto)\n",
    "- Salário semanal líquido (Bruto - Descontos)"
   ]
  },
  {
   "cell_type": "code",
   "execution_count": 2,
   "metadata": {
    "id": "hVbX0I97nj6M"
   },
   "outputs": [
    {
     "name": "stdout",
     "output_type": "stream",
     "text": [
      "Salário semanal bruto: R$800.00\n",
      "Valor descontado pelo INSS por semana: R$80.00\n",
      "Valor descontado pelo sindicato por semana: R$40.00\n",
      "Salário semanal líquido: R$680.00\n"
     ]
    }
   ],
   "source": [
    "## Escreva e execute seu código aqui\n",
    "\n",
    "# Armazenar o valor do salário por hora e o número de horas trabalhadas na semana\n",
    "salario_hora = 20.0\n",
    "horas_trabalhadas_semana = 40\n",
    "\n",
    "# Calcular o salário semanal bruto\n",
    "salario_semanal_bruto = salario_hora * horas_trabalhadas_semana\n",
    "\n",
    "# Calcular os descontos\n",
    "desconto_inss = salario_semanal_bruto * 0.10\n",
    "desconto_sindicato = salario_semanal_bruto * 0.05\n",
    "\n",
    "# Calcular o salário semanal líquido\n",
    "salario_semanal_liquido = salario_semanal_bruto - desconto_inss - desconto_sindicato\n",
    "\n",
    "# Imprime os resultados\n",
    "print(f\"Salário semanal bruto: R${salario_semanal_bruto:.2f}\")\n",
    "print(f\"Valor descontado pelo INSS por semana: R${desconto_inss:.2f}\")\n",
    "print(f\"Valor descontado pelo sindicato por semana: R${desconto_sindicato:.2f}\")\n",
    "print(f\"Salário semanal líquido: R${salario_semanal_liquido:.2f}\")"
   ]
  },
  {
   "cell_type": "markdown",
   "metadata": {
    "id": "pIxKX9J2oGZ1"
   },
   "source": [
    "### Q2\n",
    "\n",
    "Altere o programa anterior para a partir dos valores de horas trabalhadas por semana e salário por hora, calcular **em somente duas instruções**:\n",
    "- Salário semanal bruto\n",
    "- Salário semanal líquido com todos os descontos. Para a segunda instrução, realize todos os cálculos aritméticos em uma expressão composta.\n"
   ]
  },
  {
   "cell_type": "code",
   "execution_count": 1,
   "metadata": {
    "id": "pAHw9Xf9oGoi"
   },
   "outputs": [
    {
     "name": "stdout",
     "output_type": "stream",
     "text": [
      "Salário semanal bruto: R$800.00\n",
      "Salário semanal líquido: R$680.00\n"
     ]
    }
   ],
   "source": [
    "## Escreva e execute seu código aqui\n",
    "\n",
    "# Armazenar o valor do salário por hora e o número de horas trabalhadas na semana\n",
    "salario_hora = 20.0\n",
    "horas_trabalhadas_semana = 40\n",
    "\n",
    "# Calcular o salário semanal bruto\n",
    "salario_semanal_bruto = salario_hora * horas_trabalhadas_semana\n",
    "\n",
    "# Calcular o salário semanal líquido (Bruto - 10% INSS - 5% Sindicato) em uma única expressão\n",
    "salario_semanal_liquido = salario_semanal_bruto * (1 - 0.10 - 0.05)\n",
    "\n",
    "# resultados\n",
    "print(f\"Salário semanal bruto: R${salario_semanal_bruto:.2f}\")\n",
    "print(f\"Salário semanal líquido: R${salario_semanal_liquido:.2f}\")"
   ]
  },
  {
   "cell_type": "markdown",
   "metadata": {
    "id": "m8tlHRuWpBOB"
   },
   "source": [
    "### Q3\n",
    "\n",
    "Você está desenvolvendo um software de conversão de moeda e precisa calcular o valor equivalente em yuan chinês a partir de uma quantia em real. A taxa de câmbio é de 0.69 BRL (real) para 1 CNY (yuan). Escreva um programa que define em uma variável uma quantia em reais (BRL) e calcula o valor equivalente em yuan (CNY). Imprima o resultado."
   ]
  },
  {
   "cell_type": "code",
   "execution_count": 4,
   "metadata": {
    "id": "2bPw7uF6oeL9"
   },
   "outputs": [
    {
     "name": "stdout",
     "output_type": "stream",
     "text": [
      "Quantia em reais (BRL): R$100.00\n",
      "Valor equivalente em yuan chinês (CNY): ¥144.93\n"
     ]
    }
   ],
   "source": [
    "## Escreva e execute seu código aqui\n",
    "\n",
    "# Definir a taxa de câmbio de reais (BRL) para yuan chinês (CNY)\n",
    "taxa_cambio = 0.69\n",
    "\n",
    "# Definir a quantia em reais (BRL)\n",
    "quantia_brl = 100\n",
    "\n",
    "# Calcular o valor equivalente em yuan chinês (CNY)\n",
    "quantia_cny = quantia_brl / taxa_cambio\n",
    "\n",
    "#resultado\n",
    "print(f\"Quantia em reais (BRL): R${quantia_brl:.2f}\")\n",
    "print(f\"Valor equivalente em yuan chinês (CNY): ¥{quantia_cny:.2f}\")"
   ]
  },
  {
   "cell_type": "markdown",
   "metadata": {
    "id": "-Na3ltDCp74A"
   },
   "source": [
    "### Q4\n",
    "\n",
    "Você é um treinador de corrida e deseja calcular a velocidade média que um atleta precisa manter para completar a Maratona Internacional de São Silvestre, que tem uma distância total de 42.195 km. A fórmula para calcular a velocidade média ($v\\_media$) é dada por $v\\_media = \\frac{distancia}{tempo}$ . Escreva um programa em Python para calcular a velocidade média necessária para completar a maratona em 3 horas.\n",
    "\n",
    "**Calcule e imprima o resultado em metros/segundo**, ou seja, converta a distância de quilômetros para metros ($metro = \\frac{km}{1000}$) e a velocidade de horas para segundos $(segundo = \\frac{hora}{3600})$."
   ]
  },
  {
   "cell_type": "code",
   "execution_count": 8,
   "metadata": {
    "id": "Bn6l8kcSrE4L"
   },
   "outputs": [
    {
     "name": "stdout",
     "output_type": "stream",
     "text": [
      " A velocidade em metros por segundo do atleta é: 3.91 m/s\n"
     ]
    }
   ],
   "source": [
    "## Escreva e execute seu código aqui\n",
    "distancia_km= 42.195\n",
    "tempo_hora= 3\n",
    "\n",
    "#Converter a distância de quilômetros para metros\n",
    "distancia_metro = distancia_km * 1000\n",
    "#Converter o tempo de horas para segundos\n",
    "tempo_segundo = tempo_hora * 3600\n",
    "\n",
    "# Calcular a velocidade média em metros por segundo\n",
    "velocidade_mediaMs= distancia_metro / tempo_segundo\n",
    "\n",
    "# resultado\n",
    "print(f\" A velocidade em metros por segundo do atleta é: { velocidade_mediaMs:.2f} m/s\")\n"
   ]
  },
  {
   "cell_type": "code",
   "execution_count": null,
   "metadata": {},
   "outputs": [],
   "source": []
  }
 ],
 "metadata": {
  "colab": {
   "provenance": []
  },
  "kernelspec": {
   "display_name": "Python 3 (ipykernel)",
   "language": "python",
   "name": "python3"
  },
  "language_info": {
   "codemirror_mode": {
    "name": "ipython",
    "version": 3
   },
   "file_extension": ".py",
   "mimetype": "text/x-python",
   "name": "python",
   "nbconvert_exporter": "python",
   "pygments_lexer": "ipython3",
   "version": "3.12.3"
  }
 },
 "nbformat": 4,
 "nbformat_minor": 4
}
