{
 "cells": [
  {
   "cell_type": "markdown",
   "id": "559687a1",
   "metadata": {},
   "source": [
    "# Módulo 3 - Condicionais\n",
    "\n",
    "## 3.5 - Decisões Múltiplas"
   ]
  },
  {
   "cell_type": "markdown",
   "id": "42f823b3",
   "metadata": {},
   "source": [
    "### Q1.\n",
    "\n",
    "Vamos fazer uma calculadora! Escreva um programa que solicita 3 entradas: o primeiro operando (float), o operador (caracter) e o segundo operando (float). Seu programa deve imprimir o resultado da operação solicitada, entre soma (+), subtração (-), divisão (/), multiplicação (\\*) ou potência (\\*\\*). Seu programa também deve imprimir uma mensagem de erro se a operação solicitada não estiver dentre as opções disponíveis.\n",
    "\n",
    "Seguem alguns exemplos de interação com seu código no terminal. \n",
    "\n",
    "\n",
    "```\n",
    "Digite o primeiro operando: 5.2\n",
    "Digite o operador (+, -, /, *, **): *\n",
    "Digite o segundo operando` 3\n",
    "Resultado: 5.2 * 3.0 = 15.6\n",
    "```\n",
    "\n",
    "```\n",
    "Digite o primeiro operando: 8\n",
    "Digite o operador (+, -, /, *, **): **\n",
    "Digite o segundo operando: 2\n",
    "Resultado: 8.0 * 2.0 = 64.0\n",
    "```\n",
    "\n",
    "```\n",
    "Digite o primeiro operando: 7\n",
    "Digite o operador (+, -, /, *, **): %\n",
    "Digite o segundo operando: 3.4\n",
    "Erro! Operação inválida. \n",
    "```\n",
    "\n",
    "```\n",
    "Digite o primeiro operando: 10\n",
    "Digite o operador (+, -, /, *, **): /\n",
    "Digite o segundo operando: 2.5\n",
    "Resultado: 10.0 / 2.5 = 4.0\n",
    "```\n",
    "\n"
   ]
  },
  {
   "cell_type": "code",
   "execution_count": 20,
   "id": "c5b8cd4d",
   "metadata": {},
   "outputs": [
    {
     "name": "stdin",
     "output_type": "stream",
     "text": [
      "Infome o primeiro operando:  50\n",
      " Informe o operador (+, -, /, *, **): -\n",
      "Informe o segundo operando:  2\n"
     ]
    },
    {
     "name": "stdout",
     "output_type": "stream",
     "text": [
      "50.0 - 2.0 resultado é= 48.0\n"
     ]
    }
   ],
   "source": [
    "## Escreva e execute seu código aqui\n",
    "#solicitando a informação do usuario\n",
    "operando1= float (input(\"Infome o primeiro operando: \"))\n",
    "operador=  input(\" Informe o operador (+, -, /, *, **):\")\n",
    "operando2= float (input(\"Informe o segundo operando: \"))\n",
    "\n",
    "#processando as informações\n",
    "if operador== \"+\":\n",
    "    resultado = operando1 + operando2\n",
    "    print(f\"{operando1} {operador} {operando2} resultado é= {(float(resultado))}\")\n",
    "elif operador== \"-\":\n",
    "    resultado = operando1 - operando2\n",
    "    print(f\"{operando1} {operador} {operando2} resultado é= {(float(resultado))}\")\n",
    "elif operador== \"/\":\n",
    "    resultado = operando1 / operando2\n",
    "    print(f\"{operando1} {operador} {operando2} resultado é= {(float(resultado))}\")\n",
    "elif operador== \"*\":\n",
    "    resultado = operando1 * operando2\n",
    "    print(f\"{operando1} {operador} {operando2} resultado é= {(float(resultado))}\")\n",
    "elif operador== \"**\":\n",
    "    resultado = operando1 ** operando2\n",
    "    print(f\"{operando1} {operador} {operando2} resultado é= {(float(resultado))}\")\n",
    "\n",
    "else:\n",
    "    print(\"Erro! Operação inválida\")"
   ]
  },
  {
   "cell_type": "markdown",
   "id": "d135df39",
   "metadata": {},
   "source": [
    "### Q2.\n",
    "\n",
    "Escreva um programa que leia os comprimentos dos 3 lados de um triângulo e diga se o triângulo é equilátero, isóceles ou escaleno. Regras:\n",
    "- Isóceles: Quaisquer dois lados com o mesmo comprimento\n",
    "- Equilátero: Os três lados tem o mesmo comprimento\n",
    "- Escaleno: Três lados de comprimento diferente \n",
    "\n",
    "Note que a ordem das condições importa! Seguem alguns exemplos de interação com seu código no terminal. \n",
    "\n",
    "```\n",
    "Digite o comprimento do lado 1: 4\n",
    "Digite o comprimento do lado 2: 4\n",
    "Digite o comprimento do lado 3: 6\n",
    "Triângulo: Isóceles\n",
    "```\n",
    "\n",
    "```\n",
    "Digite o comprimento do lado 1: 5\n",
    "Digite o comprimento do lado 2: 5\n",
    "Digite o comprimento do lado 3: 5\n",
    "Triângulo: Equilátero\n",
    "```\n",
    "\n",
    "```\n",
    "Digite o comprimento do lado 1: 7\n",
    "Digite o comprimento do lado 2: 4\n",
    "Digite o comprimento do lado 3: 9\n",
    "Triângulo: Escaleno\n",
    "```\n",
    "\n"
   ]
  },
  {
   "cell_type": "code",
   "execution_count": 24,
   "id": "cfcf9a80",
   "metadata": {},
   "outputs": [
    {
     "name": "stdin",
     "output_type": "stream",
     "text": [
      "Informe o comprimento do lado 1:  15\n",
      "Informe o comprimento do lado 2:  10\n",
      "Informe o comprimento do lado 3:  12\n"
     ]
    },
    {
     "name": "stdout",
     "output_type": "stream",
     "text": [
      "Triñgulo: Escaleno\n"
     ]
    }
   ],
   "source": [
    "## Escreva e execute seu código aqui\n",
    "\n",
    "#solicitando informação do usuário\n",
    "lado1= int (input(\"Informe o comprimento do lado 1: \"))\n",
    "lado2= int (input(\"Informe o comprimento do lado 2: \"))\n",
    "lado3= int (input(\"Informe o comprimento do lado 3: \"))\n",
    "\n",
    "#processando informações\n",
    "\n",
    "if lado1 == lado2 == lado3:\n",
    "    print(\"Triângulo: Equilátero\")\n",
    "elif lado1 == lado2 or lado2 ==lado3 or lado1 == lado3:\n",
    "    print(\"Triângulo: Isóceles\")\n",
    "else:\n",
    "    print(\"Triñgulo: Escaleno\")\n"
   ]
  },
  {
   "cell_type": "markdown",
   "id": "ed3405fb",
   "metadata": {},
   "source": [
    "### Q3.\n",
    "\n",
    "Você está desenvolvendo um sistema de avaliação de desempenho para um jogo. Escreva um programa em Python que avalia a pontuação do jogador em uma missão e atribui uma classificação com base nas seguintes condições:\n",
    "\n",
    "- Se a pontuação for menor que 70, atribua a classificação \"Insatisfatório\".\n",
    "- Se a pontuação for maior ou igual a 70, atribua a classificação \"Regular\".\n",
    "- Se a pontuação for maior ou igual a 80, atribua a classificação \"Bom\".\n",
    "- Se a pontuação for maior ou igual a 90, atribua a classificação \"Excelente\".\n",
    "\n",
    "Escreva um programa que solicita ao usuário a pontuação e imprime a classificação correspondente."
   ]
  },
  {
   "cell_type": "code",
   "execution_count": 52,
   "id": "a7a842ae",
   "metadata": {},
   "outputs": [
    {
     "name": "stdin",
     "output_type": "stream",
     "text": [
      " Informe a pontuação do jogador:  1\n"
     ]
    },
    {
     "name": "stdout",
     "output_type": "stream",
     "text": [
      "Classificação: Insatisfatório\n"
     ]
    }
   ],
   "source": [
    "## Escreva e execute seu código aqui\n",
    "\n",
    "#solicitando informação ao usuário\n",
    "pontuacao= float (input(\" Informe a pontuação do jogador: \"))\n",
    "\n",
    "#Processando informações\n",
    "\n",
    "if pontuacao >= 90:\n",
    "    print(\"Classificação: Execelente\")\n",
    "elif pontuacao >= 80:\n",
    "    print(\"Classificação: Bom\")\n",
    "elif pontuacao >= 70:\n",
    "    print(\"Classificação: Regular\")\n",
    "else:\n",
    "    print(\"Classificação: Insatisfatório\")\n"
   ]
  },
  {
   "cell_type": "markdown",
   "id": "6cafaa50",
   "metadata": {},
   "source": [
    "### Q4.\n",
    "\n",
    "Você está implementando um sistema de desconto em uma loja online. Escreva um programa em Python que calcula o desconto com base no valor total da compra e atribui diferentes níveis de desconto de acordo com as seguintes condições:\n",
    "\n",
    "- Se o valor total da compra for menor que R\\$ 50, não há desconto.\n",
    "- Se o valor total da compra for maior ou igual a R\\$ 50, atribua um desconto de 10%.\n",
    "- Se o valor total da compra for maior ou igual a R\\$ 100, atribua um desconto de 20%.\n",
    "\n",
    "\n",
    "Seguem alguns exemplos de interação com seu código no terminal. Preste atenção na formatação esperada para as saídas.\n",
    "\n",
    "```\n",
    "Digite o valor total da compra: 120\n",
    "Desconto aplicado: 20.0%\n",
    "Valor final com desconto: R$96.00\n",
    "```\n",
    "\n",
    "```\n",
    "Digite o valor total da compra: 65\n",
    "Desconto aplicado: 10.0%\n",
    "Valor final com desconto: R$58.50\n",
    "```\n",
    "\n",
    "```\n",
    "Digite o valor total da compra: 40\n",
    "Desconto aplicado: 0.0%\n",
    "Valor final com desconto: R$40.00\n",
    "```\n",
    "\n",
    "\n"
   ]
  },
  {
   "cell_type": "code",
   "execution_count": 3,
   "id": "3b1b1929",
   "metadata": {},
   "outputs": [
    {
     "name": "stdin",
     "output_type": "stream",
     "text": [
      " Informe o valor total da compra R$: 40\n"
     ]
    },
    {
     "name": "stdout",
     "output_type": "stream",
     "text": [
      "Desconto aplicado: 0.0\n",
      "Valor final com desconto:  40.00\n"
     ]
    }
   ],
   "source": [
    "## Escreva e execute seu código aqui\n",
    "##solicitando informação ao usuário\n",
    "valor_compra= float (input (\" Informe o valor total da compra R$:\"))\n",
    "\n",
    "##Processando informações\n",
    "if valor_compra >= 100:\n",
    "    desconto = 20.0\n",
    "elif valor_compra >= 50:\n",
    "    desconto = 10.0\n",
    "else:\n",
    "    desconto = 0.0\n",
    "\n",
    "valor_final = valor_compra * (1 - desconto / 100)\n",
    "\n",
    "print(f\"Desconto aplicado: {desconto:.1f}\")\n",
    "print(f\"Valor final com desconto: {valor_final: .2f}\")\n"
   ]
  },
  {
   "cell_type": "markdown",
   "id": "dc5db6d7",
   "metadata": {},
   "source": [
    "### Q5.\n",
    "\n",
    "Você está projetando um sistema de autenticação baseado na análise da íris (parte colorida do olho). Ao acionado, o sistema coleta e retorna 3 valores inteiros referentes a atributos da íris visível. Mas o sistema não é perfeito, tendo uma margem de erro do sensor de +/- $5$. \n",
    "\n",
    "O código abaixo tem os atributos dos 4 usuários cadastrados no sistema. Você deve completar om código, pedindo ao usuário para inserir uma nova leitura de padrão de íris. O programa deve comparar o padrão inserido com os padrões cadastrados no banco de dados. Se o padrão estiver dentro da tolerância estabelecida, o usuário é autenticado com sucesso. Caso contrário, a autenticação falha.\n",
    "\n",
    "**Dica:** A função do python ```abs()``` retorna o valor absoluto de um elemento. Ex: \n",
    "```\n",
    ">>> print(abs(987-982))\n",
    "5\n",
    ">>> print(abs(987-992))\n",
    "5\n",
    "```\n",
    "\n",
    "Seguem alguns exemplos de interação com seu código no terminal.\n",
    "\n",
    "```\n",
    "Insira o padrão de íris para autenticação.\n",
    "Atributo 1: 111\n",
    "Atributo 2: 222\n",
    "Atributo 3: 333\n",
    "Autenticação bem-sucedida! \n",
    "Usuário: 3\n",
    "```\n",
    "\n",
    "```\n",
    "Insira o padrão de íris para autenticação.\n",
    "Atributo 1: 111\n",
    "Atributo 2: 200\n",
    "Atributo 3: 333\n",
    "Autenticação falhou! \n",
    "```\n",
    "\n",
    "```\n",
    "Insira o padrão de íris para autenticação.\n",
    "Atributo 1: 982\n",
    "Atributo 2: 653\n",
    "Atributo 3: 324\n",
    "Autenticação bem-sucedida! \n",
    "Usuário: 2\n",
    "```"
   ]
  },
  {
   "cell_type": "code",
   "execution_count": 5,
   "id": "b90304eb",
   "metadata": {},
   "outputs": [
    {
     "name": "stdout",
     "output_type": "stream",
     "text": [
      "Insira o padrão de íris para autenticação.\n"
     ]
    },
    {
     "name": "stdin",
     "output_type": "stream",
     "text": [
      "Atributo 1:  111\n",
      "Atributo 2:  200\n",
      "Atributo 3:  333\n"
     ]
    },
    {
     "name": "stdout",
     "output_type": "stream",
     "text": [
      "Autenticação falhou!\n"
     ]
    }
   ],
   "source": [
    "## Não altere os atributos definidos a seguir\n",
    "iris1_a1, iris1_a2, iris1_a3 = 123, 456, 789\n",
    "iris2_a1, iris2_a2, iris2_a3 = 987, 654, 321\n",
    "iris3_a1, iris3_a2, iris3_a3 = 111, 222, 333\n",
    "iris4_a1, iris4_a2, iris4_a3 = 444, 555, 666\n",
    "\n",
    "## Escreva e execute seu código aqui\n",
    "\n",
    "# Margem de erro do sensor\n",
    "margem_erro = 5\n",
    "\n",
    "# Solicitação dos valores ao usuário\n",
    "print(\"Insira o padrão de íris para autenticação.\")\n",
    "a1 = int(input(\"Atributo 1: \"))\n",
    "a2 = int(input(\"Atributo 2: \"))\n",
    "a3 = int(input(\"Atributo 3: \"))\n",
    "\n",
    "# Verificação para cada usuário\n",
    "if (abs(a1 - iris1_a1) <= margem_erro and \n",
    "    abs(a2 - iris1_a2) <= margem_erro and \n",
    "    abs(a3 - iris1_a3) <= margem_erro):\n",
    "    print(\"Autenticação bem-sucedida!\")\n",
    "    print(\"Usuário: 1\")\n",
    "elif (abs(a1 - iris2_a1) <= margem_erro and \n",
    "      abs(a2 - iris2_a2) <= margem_erro and \n",
    "      abs(a3 - iris2_a3) <= margem_erro):\n",
    "    print(\"Autenticação bem-sucedida!\")\n",
    "    print(\"Usuário: 2\")\n",
    "elif (abs(a1 - iris3_a1) <= margem_erro and \n",
    "      abs(a2 - iris3_a2) <= margem_erro and \n",
    "      abs(a3 - iris3_a3) <= margem_erro):\n",
    "    print(\"Autenticação bem-sucedida!\")\n",
    "    print(\"Usuário: 3\")\n",
    "elif (abs(a1 - iris4_a1) <= margem_erro and \n",
    "      abs(a2 - iris4_a2) <= margem_erro and \n",
    "      abs(a3 - iris4_a3) <= margem_erro):\n",
    "    print(\"Autenticação bem-sucedida!\")\n",
    "    print(\"Usuário: 4\")\n",
    "else:\n",
    "    print(\"Autenticação falhou!\")\n"
   ]
  },
  {
   "cell_type": "code",
   "execution_count": null,
   "id": "11cf1101-8ee7-4a48-89f1-6db296010e72",
   "metadata": {},
   "outputs": [],
   "source": []
  }
 ],
 "metadata": {
  "kernelspec": {
   "display_name": "Python 3 (ipykernel)",
   "language": "python",
   "name": "python3"
  },
  "language_info": {
   "codemirror_mode": {
    "name": "ipython",
    "version": 3
   },
   "file_extension": ".py",
   "mimetype": "text/x-python",
   "name": "python",
   "nbconvert_exporter": "python",
   "pygments_lexer": "ipython3",
   "version": "3.12.3"
  }
 },
 "nbformat": 4,
 "nbformat_minor": 5
}
